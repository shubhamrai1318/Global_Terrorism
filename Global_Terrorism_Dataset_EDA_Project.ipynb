{
  "nbformat": 4,
  "nbformat_minor": 0,
  "metadata": {
    "colab": {
      "private_outputs": true,
      "provenance": [],
      "collapsed_sections": [
        "vncDsAP0Gaoa",
        "FJNUwmbgGyua",
        "w6K7xa23Elo4",
        "yQaldy8SH6Dl",
        "mDgbUHAGgjLW",
        "HhfV-JJviCcP",
        "Y3lxredqlCYt",
        "3RnN4peoiCZX",
        "x71ZqKXriCWQ",
        "7hBIi_osiCS2",
        "JlHwYmJAmNHm",
        "H0kj-8xxnORC",
        "nA9Y7ga8ng1Z",
        "u3PMJOP6ngxN",
        "dauF4eBmngu3",
        "0wOQAZs5pc--",
        "KSlN3yHqYklG",
        "EM7whBJCYoAo",
        "4Of9eVA-YrdM",
        "bamQiAODYuh1",
        "OH-pJp9IphqM",
        "PIIx-8_IphqN",
        "YJ55k-q6phqO",
        "U2RJ9gkRphqQ",
        "x-EpHcCOp1ci",
        "NC_X3p0fY2L0",
        "8G2x9gOozGDZ"
      ],
      "include_colab_link": true
    },
    "kernelspec": {
      "name": "python3",
      "display_name": "Python 3"
    },
    "language_info": {
      "name": "python"
    },
    "gpuClass": "standard"
  },
  "cells": [
    {
      "cell_type": "markdown",
      "metadata": {
        "id": "view-in-github",
        "colab_type": "text"
      },
      "source": [
        "<a href=\"https://colab.research.google.com/github/shubhamrai1318/Global_Terrorism/blob/main/Global_Terrorism_Dataset_EDA_Project.ipynb\" target=\"_parent\"><img src=\"https://colab.research.google.com/assets/colab-badge.svg\" alt=\"Open In Colab\"/></a>"
      ]
    },
    {
      "cell_type": "markdown",
      "source": [
        "# **Project Name**    -  Global Terrorism Dataset\n",
        "\n"
      ],
      "metadata": {
        "id": "vncDsAP0Gaoa"
      }
    },
    {
      "cell_type": "markdown",
      "source": [
        "##### **Project Type**    - EDA\n",
        "##### **Contribution**    - Individual\n",
        "##### **Name**            - Shubham Rai\n"
      ],
      "metadata": {
        "id": "beRrZCGUAJYm"
      }
    },
    {
      "cell_type": "markdown",
      "source": [
        "# **Project Summary -**"
      ],
      "metadata": {
        "id": "FJNUwmbgGyua"
      }
    },
    {
      "cell_type": "markdown",
      "source": [
        "**The scope of this project is to drill down the terrorist events around the world from 1970 through 2017.** \n",
        "\n",
        "In this project I am going to perform Exploratory Data Analysis on terrorism dataset to find out the hot zone of terrorism.\n",
        "\n",
        "I will use Global Terrorism Database which is an open-source database including information on terrorist events around the world and this data is in the from of csv format.This database is maintained by researchers at the National Consortium for the Study of Terrorism and Responses to Terrorism (START), headquartered at the University of Maryland defines terrorist attack as a threatened or actual use of illegal force and violence by a non-state actor to attain a political, economic, religious or social goal through fear, coercion or intimidation.\n",
        "\n",
        "Overall, the project provides a detailed analysis of the Global Terrorism Dataset and sheds light on the nature and patterns of terrorism worldwide. The insights gained from this analysis can be used to inform policy decisions and improve counter-terrorism efforts.\n",
        "\n",
        " \n",
        "  **What is Global Terrorism Database**\n",
        "\n",
        "*   The Global Terrorism Database (GTD) is an open-source database including information on terrorist attacks around the world from 1970 through 2017.\n",
        "  \n",
        "*   The Global Terrorism Database includes systematic data on domestic as well as transnational and international terrrorist  incidents that have occured during theis time period and now indludes more than 200,000 cases.\n",
        "\n",
        "*   The database is maintained by researchers at the National Consortium for the Study of Terrorism and Responses to Terrorism (START), headquartered at the University of Maryland.\n",
        "\n",
        "**How to access that csv file**\n",
        "\n",
        "\n",
        "1.   Download csv file and upload to the drive\n",
        "2.   mount the drive in the google colab.\n",
        "3.   Read the csv file from the drive.\n",
        "\n",
        "\n",
        "In this EDA Project we will cover,\n",
        "\n",
        "\n",
        "*   **how to perform Exploratory data analysis by taking a dataset.**\n",
        "*  **In this project, we have taken the Terrorism data set and we found how hot zones in the country.**\n",
        "*   **We also conclude visualizations.**\n",
        "\n",
        "\n",
        "\n",
        "\n",
        "\n",
        "  For each Terrorism incident, information is availabel on the date and location of the incident, the weapons used and nature of the target, the number of casualties.\n",
        "\n",
        "In short we can say that today, we live in the world where terrorism is becoming a primary concern because of the growing number of terrorist incidents involving civilian fatalities and infrastructure damages. The ideology and intentions behind such attacks is indeed a matter of worry. Living under the constant threat of terrorist attacks in any place is no better than living in a jungle and worrying about which animal will attack you and when. An increase in a number of radicalized attacks around the world is a clear indication that terrorism transitioning to from a place to an idea, however, the existence of specific terror group and their attack characteristics over the period of time can be vital to fight terrorism and to engage peacekeeping missions effectively. Having said that number terrorist incidents are growing these days, availability of open-source data containing information of such incidents, recent developments in machine learning algorithms and technical infrastructure to handle a large amount of data open ups variety of ways to turn information into actionable intelligence."
      ],
      "metadata": {
        "id": "F6v_1wHtG2nS"
      }
    },
    {
      "cell_type": "markdown",
      "source": [
        "# **GitHub Link -**"
      ],
      "metadata": {
        "id": "w6K7xa23Elo4"
      }
    },
    {
      "cell_type": "markdown",
      "source": [
        "https://github.com/shubhamrai1318/Global_Terrorism.git"
      ],
      "metadata": {
        "id": "h1o69JH3Eqqn"
      }
    },
    {
      "cell_type": "markdown",
      "source": [
        "# **Problem Statement**\n"
      ],
      "metadata": {
        "id": "yQaldy8SH6Dl"
      }
    },
    {
      "cell_type": "markdown",
      "source": [
        "\n",
        "\n",
        "*   Identify and highlight the geographical and temporal patterns of the terrorism.\n",
        "\n",
        "*   Study the source and do some quick research to understand more about the dataset and its topics.\n",
        "\n",
        "*   Analyse the concept and underpinning legal principles of international\n",
        "crimes of terrorism, whether at the national or international level.\n",
        "\n",
        "*   Perform data pre-processing to manipulate the data for analysis and draft out targetted tabels for analysis\n",
        "\n",
        "*   Clean the data.\n",
        "\n",
        "*   Prepare the data for processing and analysis.\n",
        "\n",
        "*   Perform data pre-processing to manipulate the data for analysis and draft out targetted tabels for analysis.\n",
        "\n",
        "*   Analyze the data more deeply and extract insights.\n",
        "\n",
        "*   Visualize the data using matplotlib and seaborn.\n"
      ],
      "metadata": {
        "id": "DpeJGUA3kjGy"
      }
    },
    {
      "cell_type": "markdown",
      "source": [
        "#### **Define Your Business Objective?**"
      ],
      "metadata": {
        "id": "PH-0ReGfmX4f"
      }
    },
    {
      "cell_type": "markdown",
      "source": [
        "**Measures to be Taken to Reduce Terrorism**\n",
        "\n",
        "*   By reducing access to dangerous weapons\n",
        "*   Government should provide more security over countries\n",
        "*   Security should be strengthened across borders\n",
        "*   Government should take measures on increased immigration\n",
        "\n",
        "**1.** **What were the primary methods of attack used in the majority of attacks?**\n",
        "\n",
        "**2. During which years were there more attacks compared to the period from 1970 onwards? Was there a decrease in the number of attacks from 2014 onwards?**\n",
        "\n",
        "**3. Did every day have an almost equal number of attacks or were there any variations? Which days had relatively low or high numbers of attacks?**\n",
        "\n",
        "**4. Which country has the highest number of attacks? Which countries come after it in terms of the number of attacks?**\n",
        "\n",
        "**5. Which region has the highest number of attacks, and which region comes second in terms of the number of attacks?**\n",
        "\n",
        "**6. What were the most common types of targets in the majority of the attacks? Which type of target follows the most common type?**\n",
        "\n",
        "**7. What were the primary methods of attack used in the majority of the incidents?**\n",
        "\n",
        "\n",
        "\n",
        "\n",
        "![image.png](data:image/png;base64,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)\n",
        "\n",
        "\n",
        "\n",
        "\n",
        "\n",
        "\n"
      ],
      "metadata": {
        "id": "PhDvGCAqmjP1"
      }
    },
    {
      "cell_type": "markdown",
      "source": [
        "# **General Guidelines** : -  "
      ],
      "metadata": {
        "id": "mDgbUHAGgjLW"
      }
    },
    {
      "cell_type": "markdown",
      "source": [
        "1.   Well-structured, formatted, and commented code is required. \n",
        "2.   Exception Handling, Production Grade Code & Deployment Ready Code will be a plus. Those students will be awarded some additional credits. \n",
        "     \n",
        "     The additional credits will have advantages over other students during Star Student selection.\n",
        "       \n",
        "             [ Note: - Deployment Ready Code is defined as, the whole .ipynb notebook should be executable in one go\n",
        "                       without a single error logged. ]\n",
        "\n",
        "3.   Each and every logic should have proper comments.\n",
        "4. You may add as many number of charts you want. Make Sure for each and every chart the following format should be answered.\n",
        "        \n",
        "\n",
        "```\n",
        "# Chart visualization code\n",
        "```\n",
        "            \n",
        "\n",
        "*   Why did you pick the specific chart?\n",
        "*   What is/are the insight(s) found from the chart?\n",
        "* Will the gained insights help creating a positive business impact? \n",
        "Are there any insights that lead to negative growth? Justify with specific reason.\n",
        "\n",
        "5. You have to create at least 20 logical & meaningful charts having important insights.\n",
        "\n",
        "\n",
        "[ Hints : - Do the Vizualization in  a structured way while following \"UBM\" Rule. \n",
        "\n",
        "U - Univariate Analysis,\n",
        "\n",
        "B - Bivariate Analysis (Numerical - Categorical, Numerical - Numerical, Categorical - Categorical)\n",
        "\n",
        "M - Multivariate Analysis\n",
        " ]\n",
        "\n",
        "\n",
        "\n"
      ],
      "metadata": {
        "id": "ZrxVaUj-hHfC"
      }
    },
    {
      "cell_type": "markdown",
      "source": [
        "# ***Let's Begin !***"
      ],
      "metadata": {
        "id": "O_i_v8NEhb9l"
      }
    },
    {
      "cell_type": "markdown",
      "source": [
        "## ***1. Know Your Data***"
      ],
      "metadata": {
        "id": "HhfV-JJviCcP"
      }
    },
    {
      "cell_type": "markdown",
      "source": [
        "### Import Libraries"
      ],
      "metadata": {
        "id": "Y3lxredqlCYt"
      }
    },
    {
      "cell_type": "code",
      "source": [
        "# Import Libraries\n",
        "\n",
        "import numpy as np                  #importing numpy library and keeping the alias as np\n",
        "import pandas as pd                 #importing pandas library and keeping the alias name as pd\n",
        "import matplotlib.pyplot as plt     #importing matplotlib.pyplot library and keeping the alias name as plt for visualization\n",
        "%matplotlib inline\n",
        "import seaborn as sns               #importing seaborn library and keeping the alias as sns\n",
        "import missingno as msno            #importing missingno library and keeping the alias as msno for calculating null values\n",
        "import plotly.graph_objects as go   #importing plotly.graph_objects library and keeping the alias as go\n"
      ],
      "metadata": {
        "id": "M8Vqi-pPk-HR"
      },
      "execution_count": null,
      "outputs": []
    },
    {
      "cell_type": "markdown",
      "source": [
        "### Dataset Loading"
      ],
      "metadata": {
        "id": "3RnN4peoiCZX"
      }
    },
    {
      "cell_type": "code",
      "source": [
        "# Load Dataset\n",
        "from google.colab import drive\n",
        "drive.mount('/content/drive')     #mounting drive\n"
      ],
      "metadata": {
        "id": "4CkvbW_SlZ_R"
      },
      "execution_count": null,
      "outputs": []
    },
    {
      "cell_type": "code",
      "source": [
        "\n",
        "file_path ='/content/drive/MyDrive/Data/Global_Terrorism_Data.csv'    #setting up the path of the file and storing the path in file_path variable\n",
        "df = pd.read_csv(file_path,encoding=\"ISO-8859-1\")                     #reading that csv file\n"
      ],
      "metadata": {
        "id": "jeJXEP5fnhop"
      },
      "execution_count": null,
      "outputs": []
    },
    {
      "cell_type": "markdown",
      "source": [
        "### Dataset First View"
      ],
      "metadata": {
        "id": "x71ZqKXriCWQ"
      }
    },
    {
      "cell_type": "code",
      "source": [
        "# Dataset First Look\n",
        "df.head()       #head method displays the first 5 rows "
      ],
      "metadata": {
        "id": "LWNFOSvLl09H"
      },
      "execution_count": null,
      "outputs": []
    },
    {
      "cell_type": "markdown",
      "source": [
        "### Dataset Rows & Columns count\n",
        "\n"
      ],
      "metadata": {
        "id": "7hBIi_osiCS2"
      }
    },
    {
      "cell_type": "code",
      "source": [
        "# Dataset Rows & Columns count\n",
        "\n",
        "print(\"Total Number of rows:\\t\",df.shape[0])     #shape[0] defines the total rows of the dataset\n",
        "print(\"Total Number of columns:\",df.shape[1])    #shape[1] defines the total columns of the dataset\n"
      ],
      "metadata": {
        "id": "Kllu7SJgmLij"
      },
      "execution_count": null,
      "outputs": []
    },
    {
      "cell_type": "markdown",
      "source": [
        "### Dataset Information"
      ],
      "metadata": {
        "id": "JlHwYmJAmNHm"
      }
    },
    {
      "cell_type": "code",
      "source": [
        "# Dataset Info\n",
        "\n",
        "df.info(verbose=True,show_counts=True)   #info method shows the columns , the not null values in that specific columns and the DataTypes\n"
      ],
      "metadata": {
        "id": "e9hRXRi6meOf"
      },
      "execution_count": null,
      "outputs": []
    },
    {
      "cell_type": "markdown",
      "source": [
        "#### Duplicate Values"
      ],
      "metadata": {
        "id": "35m5QtbWiB9F"
      }
    },
    {
      "cell_type": "code",
      "source": [
        "# Dataset Duplicate Value Count\n",
        "\n",
        "null_sum=(df.isnull().sum()/len(df))*100\n",
        "null_sum\n",
        "df.duplicated(keep=False).sum()"
      ],
      "metadata": {
        "id": "1sLdpKYkmox0"
      },
      "execution_count": null,
      "outputs": []
    },
    {
      "cell_type": "markdown",
      "source": [
        "#### Missing Values/Null Values"
      ],
      "metadata": {
        "id": "PoPl-ycgm1ru"
      }
    },
    {
      "cell_type": "code",
      "source": [
        "# Missing Values/Null Values Count\n",
        "\n",
        "#mis_val holds the total number of missing values\n",
        "mis_val = df.isnull().sum()   \n",
        "\n",
        "#here converts that missing values into percentage\n",
        "mis_val_percent = 100 * mis_val / len(df)     \n",
        "\n",
        "#concating missing values and percentage\n",
        "mis_val_table = pd.concat([mis_val, mis_val_percent], axis=1)   \n",
        "\n",
        "#renaming the column name as missing values and % of Total values and sorting in descending order\n",
        "mis_val_table_ren_columns = mis_val_table.rename(columns = {0 : 'Missing Values', 1 : '% of Total Values'})   \n",
        "mis_val_table_ren_columns = mis_val_table_ren_columns[mis_val_table_ren_columns.iloc[:,1] != 0].sort_values('% of Total Values', ascending=False).round(1)\n",
        "\n",
        "\n",
        "#printing the total columns and the columns with missing values.\n",
        "print (\"There are total \" + str(df.shape[1]) + \" columns.\\nThere are \" + str(mis_val_table_ren_columns.shape[0]) +\" columns that have missing values.\")\n"
      ],
      "metadata": {
        "id": "GgHWkxvamxVg"
      },
      "execution_count": null,
      "outputs": []
    },
    {
      "cell_type": "code",
      "source": [
        "# Visualizing the missing values\n",
        "\n",
        "msno.bar(df) #it shows the graph of each column with available value"
      ],
      "metadata": {
        "id": "3q5wnI3om9sJ"
      },
      "execution_count": null,
      "outputs": []
    },
    {
      "cell_type": "markdown",
      "source": [
        "### What did you know about your dataset?"
      ],
      "metadata": {
        "id": "H0kj-8xxnORC"
      }
    },
    {
      "cell_type": "markdown",
      "source": [
        "The Global Terrorism Database (GTD) is an open-source database including information on terrorist attacks around the world from 1970 through 2017. \n",
        "\n",
        "The shape of this dataset is (181691,135), means it have 181691 rows and total 135 columns.\n",
        "\n",
        "In this dataset we have 106 columns which have null values which 77 columns have more than 50% missing/null values and 58 columns have less than 50% null/missing values.\n",
        "\n",
        "We have 94 columns which have more than 95% missing values.\n",
        "\n",
        "In short we can say that, the GTD includes systematic data on domestic as well as international terrorist incidents that have occurred during this time period and now includes more than 180,000 attacks."
      ],
      "metadata": {
        "id": "gfoNAAC-nUe_"
      }
    },
    {
      "cell_type": "markdown",
      "source": [
        "## ***2. Understanding Your Variables***"
      ],
      "metadata": {
        "id": "nA9Y7ga8ng1Z"
      }
    },
    {
      "cell_type": "code",
      "source": [
        "# Dataset Columns\n",
        "\n",
        "df.columns  # it displays all the columns which which exists."
      ],
      "metadata": {
        "id": "j7xfkqrt5Ag5"
      },
      "execution_count": null,
      "outputs": []
    },
    {
      "cell_type": "code",
      "source": [
        "# Dataset Describe\n",
        "df.describe()   # view the statistical description of the dataset."
      ],
      "metadata": {
        "id": "DnOaZdaE5Q5t"
      },
      "execution_count": null,
      "outputs": []
    },
    {
      "cell_type": "markdown",
      "source": [
        "### Variables Description "
      ],
      "metadata": {
        "id": "PBTbrJXOngz2"
      }
    },
    {
      "cell_type": "markdown",
      "source": [
        "**eventid --**      In eventid we have 181691 rows and also 181691 unique values\n",
        "\n",
        "**iyear --**        In iyear we have 181691 rows and 47 unique values\n",
        "        \n",
        "**imonth --**        In imonth we have 181691 rows and 13 unique values\n",
        "\n",
        "**iday --**          In iday we have 181691 rows and 32 unique values\n",
        "\n",
        "**extended --**                2\n",
        "\n",
        "**country_txt --**   In country_txt we have total 181691 rows and 205 different countries.\n",
        "\n",
        "**region_txt --**  In region_txt we have 181691 rows and 12 different regions.\n",
        "\n",
        "**city --**        In city we have 181257 rows and 36674 unique values   \n",
        "\n",
        "**latitude --**     In latitude we have 177135 rows and 48322 unique values       \n",
        "\n",
        "**longitude --**    In longitude we have 177135 rows and 48039 unique values\n",
        "\n",
        "and some other usefule variables are:-\n",
        "**attacktype1_txt,targtype1_txt,suicide,group,weapon_type** and so on...."
      ],
      "metadata": {
        "id": "aJV4KIxSnxay"
      }
    },
    {
      "cell_type": "markdown",
      "source": [
        "### Check Unique Values for each variable."
      ],
      "metadata": {
        "id": "u3PMJOP6ngxN"
      }
    },
    {
      "cell_type": "code",
      "source": [
        "# Check Unique Values for each variable.\n",
        "unique_values = df.nunique()\n",
        "print(unique_values[:50])  #prints all the columns with the count of unique values in that specified column\n"
      ],
      "metadata": {
        "id": "zms12Yq5n-jE"
      },
      "execution_count": null,
      "outputs": []
    },
    {
      "cell_type": "markdown",
      "source": [
        "## 3. ***Data Wrangling***"
      ],
      "metadata": {
        "id": "dauF4eBmngu3"
      }
    },
    {
      "cell_type": "markdown",
      "source": [
        "### Data Wrangling Code"
      ],
      "metadata": {
        "id": "bKJF3rekwFvQ"
      }
    },
    {
      "cell_type": "code",
      "source": [
        "#filter the dataset with less null/missing values\n",
        "\n",
        "# Calculate the percentage of missing values in each column of the df dataframe\n",
        "null_sum=(df.isnull().sum()/len(df))*100\n",
        "\n",
        "# Sorts the percentage of missing values in descending order\n",
        "percent_null=null_sum.sort_values(ascending=False)\n",
        "\n",
        "\n",
        "# Filters out columns with missing values greater than or equal to 50%.\n",
        "high_null_column=percent_null[percent_null>=50] \n",
        "\n",
        "# Filters out columns with missing values less than 50% and print the result\n",
        "less_than_50_null_column=percent_null[~percent_null.isin(high_null_column)]\n",
        "print(f'Number of column where null value less than fifty percent = {len(less_than_50_null_column)}')\n",
        "\n",
        "# Stores the column names with less than 50% missing values in a list\n",
        "less_null_column=less_than_50_null_column.index.to_list()\n",
        "print(less_null_column)\n",
        "\n",
        "# Creates a new dataframe new_df with only the columns that have less than 50% missing values\n",
        "new_df=df[less_null_column]\n"
      ],
      "metadata": {
        "id": "wk-9a2fpoLcV"
      },
      "execution_count": null,
      "outputs": []
    },
    {
      "cell_type": "code",
      "source": [
        "# Calculate the list of all column names in the new DataFrame\n",
        "check=new_df.columns.to_list()\n",
        "\n",
        "# Define the list of selected columns to keep and print that columns which we have to keep\n",
        "selected_columns_1=['eventid','iyear','imonth','iday','country_txt','region_txt','city','multiple','success','suicide','attacktype1_txt', 'targtype1_txt','targsubtype1_txt','corp1','target1',\n",
        " 'natlty1_txt', 'weaptype1_txt','nkill','nwoundus', 'claimed', 'individual', 'INT_LOG', 'doubtterr', 'INT_MISC', 'specificity','gname', 'ishostkid', 'INT_ANY', 'guncertain1', 'provstate']\n",
        "\n",
        "print(\"We have to use only\",len(selected_columns_1), \"columns in our data frame.\")\n",
        "\n",
        "# Calculate the number of unused columns\n",
        "len(check)-len(selected_columns_1)\n",
        "\n",
        "# Create a new DataFrame with only the selected columns\n",
        "final_df=df[selected_columns_1]\n",
        "final_df  # Check if it’s updated.\n"
      ],
      "metadata": {
        "id": "Ex4yJQw9_p1B"
      },
      "execution_count": null,
      "outputs": []
    },
    {
      "cell_type": "markdown",
      "source": [
        "## ***4. Data Vizualization, Storytelling & Experimenting with charts : Understand the relationships between variables***"
      ],
      "metadata": {
        "id": "GF8Ens_Soomf"
      }
    },
    {
      "cell_type": "markdown",
      "source": [
        "#### Chart - 1"
      ],
      "metadata": {
        "id": "0wOQAZs5pc--"
      }
    },
    {
      "cell_type": "code",
      "source": [
        "# Chart - 1 visualization code\n",
        "# Number of Terrorist attack vs Year\n",
        "\n",
        "# Calculate the number of terrorist attacks per year and store them in a pandas Series object\n",
        "attack_per_year=final_df['iyear'].value_counts() \n",
        "\n",
        "# sets the figure size of the plot to 20 inches (width) and 6 inches (height).\n",
        "fig=plt.rcParams['figure.figsize'] = 20,6\n",
        "\n",
        "# Create a seaborn countplot of the number of terrorist attacks per year\n",
        "fig=sns.countplot(x='iyear',data=df,palette=['#432371',\"#FAAE7B\"]) \n",
        "\n",
        "# Rotate the x title to 45 degree\n",
        "plt.xticks(rotation = 45)\n",
        "\n",
        "# Set the x-axis,y-axis label and title\n",
        "fig.set_ylabel('Count of Terrorist Attack',fontsize=20,color='blue')\n",
        "fig.set_xlabel('Years',fontsize=20,color='blue')\n",
        "fig.set_title('Terrorist Attack Per Year',fontsize=22)"
      ],
      "metadata": {
        "id": "7v_ESjsspbW7"
      },
      "execution_count": null,
      "outputs": []
    },
    {
      "cell_type": "markdown",
      "source": [
        "##### 1. Why did you pick the specific chart?"
      ],
      "metadata": {
        "id": "K5QZ13OEpz2H"
      }
    },
    {
      "cell_type": "markdown",
      "source": [
        "Because this chart is a good choice for visualizing the number of terrorist attacks per year because it shows the distribution of the data by displaying the frequency of each unique value (year) on the x-axis, and the count of terrorist attacks for each year on the y-axis.\n",
        "\n",
        "We can also observe that there were relatively few terrorist attacks in the 1970s and 1980s, followed by an increase in the 1990s and early 2000s, before the sharp increase in the mid-2000s.\n",
        "\n"
      ],
      "metadata": {
        "id": "XESiWehPqBRc"
      }
    },
    {
      "cell_type": "markdown",
      "source": [
        "##### 2. What is/are the insight(s) found from the chart?"
      ],
      "metadata": {
        "id": "lQ7QKXXCp7Bj"
      }
    },
    {
      "cell_type": "markdown",
      "source": [
        "Based on the plot, we can see that the number of terrorist attacks has increased over time, with a sharp increase starting from the mid-2000s, peaking in the years 2014 and 2015, and then slightly decreasing in the following years.\n",
        "\n"
      ],
      "metadata": {
        "id": "C_j1G7yiqdRP"
      }
    },
    {
      "cell_type": "markdown",
      "source": [
        "#### Chart - 2"
      ],
      "metadata": {
        "id": "KSlN3yHqYklG"
      }
    },
    {
      "cell_type": "code",
      "source": [
        "# Chart - 2 visualization code     Number of Terrorist activities vs Country\n",
        "\n",
        "# Set the figure size of the plot to 20 inches (width) and 5 inches (height)\n",
        "fig=plt.rcParams['figure.figsize'] = 20,5\n",
        "\n",
        "# Create a seaborn countplot of the number of terrorist attacks per country, with the top 30 countries by number of attacks\n",
        "fig=sns.countplot(x='country_txt',data=final_df,order = final_df['country_txt'].value_counts().index[:30],palette=['#432371',\"#FAAE7B\"])\n",
        "\n",
        "# Rotate the x-axis labels by 75 degrees to avoid overlapping\n",
        "plt.xticks(rotation = 75)\n",
        "\n",
        "# Set the x-axis,y-axis label and title\n",
        "fig.set_xlabel('Countries',fontsize=20,color='blue')\n",
        "fig.set_ylabel('Count of Terrorist Attack',fontsize=20,color='blue')\n",
        "fig.set_title('Top 30 Countries via Numbers of Attacks',fontsize=22)\n"
      ],
      "metadata": {
        "id": "R4YgtaqtYklH"
      },
      "execution_count": null,
      "outputs": []
    },
    {
      "cell_type": "markdown",
      "source": [
        "##### 1. Why did you pick the specific chart?"
      ],
      "metadata": {
        "id": "t6dVpIINYklI"
      }
    },
    {
      "cell_type": "markdown",
      "source": [
        "I picked this specific chart because it provides a clear visualization of the distribution of terrorist attacks across countries. By showing the top 30 countries with the highest number of terrorist attacks, the chart provides a way to quickly identify the countries that are most affected by terrorism. This information can be useful for policymakers and organizations working on counterterrorism efforts, as it can help them prioritize their efforts and resources where they are most needed. Additionally, the chart allows for easy comparison between countries, making it easy to see which countries have a higher or lower number of attacks than others."
      ],
      "metadata": {
        "id": "5aaW0BYyYklI"
      }
    },
    {
      "cell_type": "markdown",
      "source": [
        "##### 2. What is/are the insight(s) found from the chart?\n",
        "\n"
      ],
      "metadata": {
        "id": "ijmpgYnKYklI"
      }
    },
    {
      "cell_type": "markdown",
      "source": [
        "The chart shows the top 30 countries with the highest number of terrorist attacks, with Iraq having the highest number of attacks followed by Afghanistan, Pakistan, India, and Colombia. This highlights the fact that these countries are most affected by terrorism and may require more attention and resources for addressing the issue."
      ],
      "metadata": {
        "id": "PSx9atu2YklI"
      }
    },
    {
      "cell_type": "markdown",
      "source": [
        "#### Chart - 3"
      ],
      "metadata": {
        "id": "EM7whBJCYoAo"
      }
    },
    {
      "cell_type": "code",
      "source": [
        "# Chart - 3 visualization code\n",
        "# Who are the main targets?\n",
        "\n",
        "# Select the 'targtype1_txt' column from the final_df dataframe, and exclude any rows where the 'targtype1_txt' value is null.\n",
        "yy = final_df[~final_df['targtype1_txt'].isna()]['targtype1_txt']\n",
        "\n",
        "# Create a figure with a width of 20 inches and a height of 5 inches.\n",
        "plt.figure(figsize=(20,5))\n",
        "\n",
        "# Rotate the x-axis labels 75 degrees.\n",
        "plt.xticks(rotation = 75)\n",
        "\n",
        "# Plot a histogram with the target type values on the x-axis and the frequency of attacks on the y-axis. Set the color of the bars to blue.\n",
        "plt.hist(yy.values,color='blue')\n"
      ],
      "metadata": {
        "id": "t6GMdE67YoAp"
      },
      "execution_count": null,
      "outputs": []
    },
    {
      "cell_type": "markdown",
      "source": [
        "##### 1. Why did you pick the specific chart?\n",
        "\n"
      ],
      "metadata": {
        "id": "fge-S5ZAYoAp"
      }
    },
    {
      "cell_type": "markdown",
      "source": [
        "I chose a histogram because it is a useful way to visualize the distribution of a single variable, in this case, the distribution of terrorist attacks across different target types. It provides an overview of the frequency of terrorist attacks for each target type, allowing us to identify which types of targets are most frequently attacked by terrorists. The horizontal axis shows the different target types, while the vertical axis shows the frequency of attacks. Additionally, the use of a histogram allows us to see any patterns or trends in the distribution of attacks across the different target types."
      ],
      "metadata": {
        "id": "5dBItgRVYoAp"
      }
    },
    {
      "cell_type": "markdown",
      "source": [
        "##### 2. What is/are the insight(s) found from the chart?"
      ],
      "metadata": {
        "id": "85gYPyotYoAp"
      }
    },
    {
      "cell_type": "markdown",
      "source": [
        "The insights found from this chart is that how different targets are varries from others.\n",
        "\n",
        "In other words we can say that histogram shows the distribution of terrorist attacks across different target types. We can see that the most frequently attacked target types are private citizens and property, military, police, and government (general), which is consistent with the findings from the previous charts. We can also see that the distribution is highly skewed, with a long tail of less frequently attacked target types. This suggests that a small number of target types account for the majority of terrorist attacks, while the rest of the target types are attacked much less frequently. Overall, this chart confirms the importance of considering the target type in analyzing terrorist attacks, as certain target types are much more likely to be targeted than others."
      ],
      "metadata": {
        "id": "4jstXR6OYoAp"
      }
    },
    {
      "cell_type": "markdown",
      "source": [
        "#### Chart - 4"
      ],
      "metadata": {
        "id": "4Of9eVA-YrdM"
      }
    },
    {
      "cell_type": "code",
      "source": [
        "# Chart - 4 visualization code\n",
        "# Most Frequent Used Weapon in Attacks\n",
        "\n",
        "# sets the size of the figure to be displayed\n",
        "plt.figure(figsize=(7,7))\n",
        "\n",
        "# create arrays containing the labels and values, respectively, for the different weapon types\n",
        "mylabels = final_df['weaptype1_txt'].value_counts().index[:6]\n",
        "myvalues = final_df['weaptype1_txt'].value_counts().values[:6]\n",
        "\n",
        "# create a pie chart\n",
        "plt.pie(myvalues, labels=mylabels, autopct='%1.1f%%')\n",
        "plt.show()"
      ],
      "metadata": {
        "id": "irlUoxc8YrdO"
      },
      "execution_count": null,
      "outputs": []
    },
    {
      "cell_type": "markdown",
      "source": [
        "##### 1. Why did you pick the specific chart?"
      ],
      "metadata": {
        "id": "iky9q4vBYrdO"
      }
    },
    {
      "cell_type": "markdown",
      "source": [
        "The main purpose for picking this chart is because the pie chart is a good way to show the distribution of weapon types used in terrorist attacks. It provides a quick and easy-to-understand overview of the data and allows for easy comparison of the different weapon types. The chart also uses colors to differentiate between the different categories, making it visually appealing and easy to read."
      ],
      "metadata": {
        "id": "aJRCwT6DYrdO"
      }
    },
    {
      "cell_type": "markdown",
      "source": [
        "##### 2. What is/are the insight(s) found from the chart?"
      ],
      "metadata": {
        "id": "F6T5p64dYrdO"
      }
    },
    {
      "cell_type": "markdown",
      "source": [
        "This insight shows the percentage distribution of weapon types used in terrorist attacks based on the dataset. The top 6 weapon types are shown and account for over 85% of all weapon types used in the attacks. The insights that can be gained from this chart include:\n",
        "\n",
        "Explosives are the most commonly used weapon type in terrorist attacks, accounting for over 50% of all weapon types used.\n",
        "\n",
        "Firearms are the second most commonly used weapon type, accounting for almost 30% of all weapon types used.\n",
        "\n",
        "Melee and chemical weapons are used much less frequently, accounting for only 2.5% and 2.2% respectively of all weapon types used."
      ],
      "metadata": {
        "id": "Xx8WAJvtYrdO"
      }
    },
    {
      "cell_type": "markdown",
      "source": [
        "#### Chart - 5"
      ],
      "metadata": {
        "id": "bamQiAODYuh1"
      }
    },
    {
      "cell_type": "code",
      "source": [
        "# Chart - 5 visualization code\n",
        "# Hot zones of terrorism (by City)\n",
        "\n",
        "# Create a figure with a specified size (18,4) for the plot\n",
        "plt.subplots(figsize=(18,4))\n",
        "\n",
        "# Creates a barplot using Seaborn library, with the x-axis values as the index of the top 15 most affected cities in the dataset, y-axis values as the count of occurrences for each city\n",
        "sns.barplot(x=final_df['city'].value_counts()[1:15].index,y=final_df['city'].value_counts()[1:15].values,palette='gnuplot2_r')\n",
        "\n",
        "# Set teh title , xlabel and ylabel name of the plot\n",
        "plt.title('Top Affected Cities',color='blue')\n",
        "plt.xlabel('Cities Name',color='red')\n",
        "plt.ylabel('Number of Occurance',color='red')\n",
        "\n",
        "# Rotates the x-axis tick labels by 75 degrees to prevent overlapping\n",
        "plt.xticks(rotation = 75)\n",
        "plt.show()"
      ],
      "metadata": {
        "id": "TIJwrbroYuh3"
      },
      "execution_count": null,
      "outputs": []
    },
    {
      "cell_type": "markdown",
      "source": [
        "##### 1. Why did you pick the specific chart?"
      ],
      "metadata": {
        "id": "QHF8YVU7Yuh3"
      }
    },
    {
      "cell_type": "markdown",
      "source": [
        "This chart is picked to identify the cities which are highly affected and some top affected cities from terrorism are diplayed above from that specific chart."
      ],
      "metadata": {
        "id": "dcxuIMRPYuh3"
      }
    },
    {
      "cell_type": "markdown",
      "source": [
        "##### 2. What is/are the insight(s) found from the chart?"
      ],
      "metadata": {
        "id": "GwzvFGzlYuh3"
      }
    },
    {
      "cell_type": "markdown",
      "source": [
        "From the above chart we found that  Baghdad is most affected city among all the cities which have 7000+ number of occurance and then Karachi is affected highly as we know from this chart we found the top affected cities from the terrorism."
      ],
      "metadata": {
        "id": "uyqkiB8YYuh3"
      }
    },
    {
      "cell_type": "markdown",
      "source": [
        "#### Chart - 6"
      ],
      "metadata": {
        "id": "OH-pJp9IphqM"
      }
    },
    {
      "cell_type": "code",
      "source": [
        "# Chart - 6 visualization code\n",
        "# Region via Numbers of Attacks\n",
        "\n",
        "# Set the fig size of the plot\n",
        "fig=plt.rcParams['figure.figsize'] = 20,4\n",
        "\n",
        "# Create a countplot using the Seaborn library, The x parameter specifies the column to be plotted, which is 'region_txt'\n",
        "fig=sns.countplot(x='region_txt',data=final_df,order = final_df['region_txt'].value_counts().index,palette='gnuplot2_r')\n",
        "\n",
        "# Set the xlabel , ylabel, and title of the plot and rotate the x-axis tick label by 75 degree\n",
        "fig.set_xlabel('Region',fontsize=18)\n",
        "fig.set_ylabel('Count of Terrorist Attack',fontsize=18)\n",
        "fig.set_title('Region via Numbers of Attacks',fontsize=20)\n",
        "plt.xticks(rotation = 75)\n"
      ],
      "metadata": {
        "id": "kuRf4wtuphqN"
      },
      "execution_count": null,
      "outputs": []
    },
    {
      "cell_type": "markdown",
      "source": [
        "##### 1. Why did you pick the specific chart?"
      ],
      "metadata": {
        "id": "bbFf2-_FphqN"
      }
    },
    {
      "cell_type": "markdown",
      "source": [
        "This chart is picked to visualize the frequency distribution of categorical data. here, the countplot is used to show the frequency distribution of terrorist attacks in different regions of the world. It provides a clear and concise visualization of the number of terrorist attacks in each region, making it easy to compare and understand the data."
      ],
      "metadata": {
        "id": "loh7H2nzphqN"
      }
    },
    {
      "cell_type": "markdown",
      "source": [
        "##### 2. What is/are the insight(s) found from the chart?"
      ],
      "metadata": {
        "id": "_ouA3fa0phqN"
      }
    },
    {
      "cell_type": "markdown",
      "source": [
        "From the above chart we found the insight is that the Middle East and North Africa (MENA) has the highest number of terrorist attacks followed by South Asia, and South America. Additionally, we can observe that North America, Australasia, and Central Asia have a relatively lower number of terrorist attacks."
      ],
      "metadata": {
        "id": "VECbqPI7phqN"
      }
    },
    {
      "cell_type": "markdown",
      "source": [
        "#### Chart - 7"
      ],
      "metadata": {
        "id": "PIIx-8_IphqN"
      }
    },
    {
      "cell_type": "code",
      "source": [
        "# Chart - 7 visualization code\n",
        "# Activity of Top Terrorist Groups\n",
        "\n",
        "# selects the rows of the DataFrame where the 'gname' column matches the top 10 most active terrorist groups.\n",
        "top_groups10=final_df[df['gname'].isin(final_df['gname'].value_counts()[1:11].index)]\n",
        "\n",
        "# creates a cross-tabulation table between the 'iyear' and 'gname' columns and then plots the table as a stacked line chart\n",
        "pd.crosstab(top_groups10.iyear,top_groups10.gname).plot(color=sns.color_palette('magma',10))\n",
        "\n",
        "#  retrieves the current figure instance and set the size of the figure\n",
        "fig=plt.gcf()\n",
        "fig.set_size_inches(18,6)\n",
        "\n",
        "# display the plot\n",
        "plt.show()"
      ],
      "metadata": {
        "id": "lqAIGUfyphqO"
      },
      "execution_count": null,
      "outputs": []
    },
    {
      "cell_type": "markdown",
      "source": [
        "##### 1. Why did you pick the specific chart?"
      ],
      "metadata": {
        "id": "t27r6nlMphqO"
      }
    },
    {
      "cell_type": "markdown",
      "source": [
        "The chart is selected to visualize the trend of terrorist activities carried out by the top 10 terrorist groups over the years. The plot shows how the frequency of attacks carried out by each group has changed over time and whether there are any significant changes in their activities over the years."
      ],
      "metadata": {
        "id": "iv6ro40sphqO"
      }
    },
    {
      "cell_type": "markdown",
      "source": [
        "##### 2. What is/are the insight(s) found from the chart?"
      ],
      "metadata": {
        "id": "r2jJGEOYphqO"
      }
    },
    {
      "cell_type": "markdown",
      "source": [
        "From this chart we found the insight, the number of terrorist attacks by the top 10 terrorist groups over the years. From the chart, we can see that the Taliban is responsible for the highest number of attacks, followed by the Islamic State (ISIL). We can also see that there is a significant increase in the number of attacks by the Islamic State (ISIL) in 2014 and 2015, which then declines in 2016. Additionally, there is a clear decline in the number of attacks carried out by the other groups after 2010. Overall, the chart gives us an understanding of the changing dynamics of terrorist groups and their impact over the years."
      ],
      "metadata": {
        "id": "Po6ZPi4hphqO"
      }
    },
    {
      "cell_type": "markdown",
      "source": [
        "#### Chart - 8"
      ],
      "metadata": {
        "id": "BZR9WyysphqO"
      }
    },
    {
      "cell_type": "code",
      "source": [
        "# Chart - 8 visualization code\n",
        "# Percentage of attacks in each country\n",
        "\n",
        "# Set the size of the plot\n",
        "plt.subplots(figsize=(10,8))\n",
        "\n",
        "# Filter the dataframe for the year 2016 and get the top 10 countries with the most attacks\n",
        "d = pd.DataFrame(final_df[final_df['iyear']==2016]['country_txt'].value_counts(sort=True)[:10])\n",
        "\n",
        "# Reset the index of the dataframe\n",
        "d.reset_index(inplace=True)\n",
        "\n",
        "# Rename the columns of the dataframe\n",
        "d.columns=['country','no_of_attacks']\n",
        "\n",
        "# Calculate the number of attacks for the \"Rest of the world\" category\n",
        "append = ['Rest of the world',sum(final_df[final_df['iyear']==2016]['country_txt'].value_counts(sort=True)) - sum(final_df[final_df['iyear']==2016]['country_txt'].value_counts(sort=True)[:10])]\n",
        "\n",
        "# Add the \"Rest of the world\" category to the dataframe\n",
        "d.loc[len(d)]= append\n",
        "\n",
        "# Define the color set for the pie chart\n",
        "color_set = [\"#e82727\",\"#ff8649\",\"#ffc549\",\"#fced20\",\"#8fe222\",\"#22e28e\",\"#22e2db\",\"#1f85c4\",\"#361599\",\"#d11fce\",\"#00ff99\",\"#fa97fc\"]\n",
        "\n",
        "# Set the title of the plot\n",
        "plt.title(\"Percentage of attacks in each country\")\n",
        "\n",
        "# Create the pie chart\n",
        "plt.pie(d['no_of_attacks'],labels=d['country'],colors= color_set,autopct='%.1f%%')\n",
        "plt.show()\n"
      ],
      "metadata": {
        "id": "TdPTWpAVphqO"
      },
      "execution_count": null,
      "outputs": []
    },
    {
      "cell_type": "markdown",
      "source": [
        "##### 1. Why did you pick the specific chart?"
      ],
      "metadata": {
        "id": "jj7wYXLtphqO"
      }
    },
    {
      "cell_type": "markdown",
      "source": [
        "The main purpose of picking this chart is because it shows the proportion of attacks in each country in a visually appealing way, which makes it easier to compare the different countries. Additionally, the pie chart is appropriate in this case because we are looking at categorical data (countries) and their respective proportions."
      ],
      "metadata": {
        "id": "Ob8u6rCTphqO"
      }
    },
    {
      "cell_type": "markdown",
      "source": [
        "##### 2. What is/are the insight(s) found from the chart?"
      ],
      "metadata": {
        "id": "eZrbJ2SmphqO"
      }
    },
    {
      "cell_type": "markdown",
      "source": [
        "From the chart, we can see the percentage distribution of terrorist attacks across the top 10 countries in the year 2016, along with a category for \"Rest of the world.\" The chart shows that Iraq had the highest percentage of terrorist attacks in 2016 at 24.7%, followed by Afghanistan at 13.9% and Pakistan at 9.7%. The \"Rest of the world\" category accounts for 38.4% of the attacks in 2016. The pie chart provides a visual representation of the distribution of attacks, making it easy to compare the percentage of attacks in different countries."
      ],
      "metadata": {
        "id": "mZtgC_hjphqO"
      }
    },
    {
      "cell_type": "markdown",
      "source": [
        "#### Chart - 9"
      ],
      "metadata": {
        "id": "YJ55k-q6phqO"
      }
    },
    {
      "cell_type": "code",
      "source": [
        "# Chart - 9 visualization code\n",
        "ax=plt.rcParams['figure.figsize'] = 20,4\n",
        "\n",
        "# a countplot to visualize the frequency of different types of attacks in the final_df dataset with the help of seaborn library\n",
        "ax=sns.countplot(x='attacktype1_txt',data=final_df,order = final_df['attacktype1_txt'].value_counts().index)\n",
        "\n",
        "# set the x-axis label of the plot\n",
        "ax.set_xlabel('Type of Attack',fontsize=18)\n",
        "plt.xticks(rotation = 75)\n",
        "\n",
        "# set the y-axis label of the plot\n",
        "ax.set_ylabel('Count',fontsize=18)\n",
        "\n",
        "# set the title of the plot\n",
        "ax.set_title('Most Frequent Type of Attacks',fontsize=20);"
      ],
      "metadata": {
        "id": "B2aS4O1ophqO"
      },
      "execution_count": null,
      "outputs": []
    },
    {
      "cell_type": "markdown",
      "source": [
        "##### 1. Why did you pick the specific chart?"
      ],
      "metadata": {
        "id": "gCFgpxoyphqP"
      }
    },
    {
      "cell_type": "markdown",
      "source": [
        "The specific chart chosen in this case is a countplot, which is a type of bar plot provided by the Seaborn library. The countplot is suitable for visualizing the frequency or count of categorical data, specifically in this case, the frequency of different types of attacks."
      ],
      "metadata": {
        "id": "TVxDimi2phqP"
      }
    },
    {
      "cell_type": "markdown",
      "source": [
        "##### 2. What is/are the insight(s) found from the chart?"
      ],
      "metadata": {
        "id": "OVtJsKN_phqQ"
      }
    },
    {
      "cell_type": "markdown",
      "source": [
        "From the countplot of the \"Type of Attack\" variable, the following insights can be derived:\n",
        "\n",
        "\n",
        "**Most Frequent Type of Attacks:** The chart clearly shows the most frequent type(s) of attacks based on the height of the corresponding bars. By observing the chart, you can identify the attack type(s) with the highest count, indicating which type(s) occur most frequently in the dataset.\n",
        "\n",
        "**Relative Frequency Comparison:** The countplot allows for a visual comparison of the frequencies of different attack types. By comparing the heights of the bars, you can determine the relative occurrence of each attack type and identify any significant differences in frequency among the categories.\n",
        "\n",
        "**Dominant Attack Types:** If certain attack types have significantly taller bars compared to others, it indicates that those types are dominant or prevalent in the dataset. This insight can help in understanding the nature of attacks and focusing on the most important or common types for further analysis or preventive measures.\n",
        "\n",
        "**Rare Attack Types**: On the other hand, if some attack types have very low or negligible counts, it suggests that those types are relatively rare or infrequent. This information can be valuable in assessing the overall distribution of attack types and identifying any specific types that occur with less frequency."
      ],
      "metadata": {
        "id": "ngGi97qjphqQ"
      }
    },
    {
      "cell_type": "markdown",
      "source": [
        "#### Chart - 10"
      ],
      "metadata": {
        "id": "U2RJ9gkRphqQ"
      }
    },
    {
      "cell_type": "code",
      "source": [
        "# Chart - 10 visualization code\n",
        "ax=plt.rcParams['figure.figsize'] = 16,12\n",
        "\n",
        "# create the countplot using the seaborn library.\n",
        "ax=sns.countplot(y='gname',data=final_df,order = final_df['gname'].value_counts().index[1:50])\n",
        "\n",
        "# set the x-axis label of the plot\n",
        "ax.set_xlabel('Type of Targets',fontsize=18)\n",
        "\n",
        "# set the y-axis label of the plot\n",
        "ax.set_ylabel('Terrorist Organisation',fontsize=18)\n",
        "\n",
        "# set the title of the plot\n",
        "ax.set_title('Number of Attacks',fontsize=20);"
      ],
      "metadata": {
        "id": "GM7a4YP4phqQ"
      },
      "execution_count": null,
      "outputs": []
    },
    {
      "cell_type": "markdown",
      "source": [
        "##### 1. Why did you pick the specific chart?"
      ],
      "metadata": {
        "id": "1M8mcRywphqQ"
      }
    },
    {
      "cell_type": "markdown",
      "source": [
        "As we know that the countplot is a suitable choice for exploring the distribution and frequency of categorical data, making it useful in analyzing the number of attacks by terrorist organizations in this case.\n",
        "\n",
        "In the above chart a countplot is used to visualize the number of attacks attributed to different terrorist organizations ('gname'). The countplot is a suitable choice for this scenario because it effectively displays the frequency of each category (terrorist organization) in a bar chart format."
      ],
      "metadata": {
        "id": "8agQvks0phqQ"
      }
    },
    {
      "cell_type": "markdown",
      "source": [
        "##### 2. What is/are the insight(s) found from the chart?"
      ],
      "metadata": {
        "id": "tgIPom80phqQ"
      }
    },
    {
      "cell_type": "markdown",
      "source": [
        "Based on the countplot(Above chart), it displays the number of attacks attributed to different terrorist organizations ('gname'), some insights that can be inferred are:\n",
        "\n",
        "**Identification of Prominent Terrorist Organizations**\n",
        "\n",
        "**Comparison of Activity Levels**\n",
        "\n",
        "**Top Terrorist Organizations**\n",
        "\n",
        "**Distribution of Attacks** \n",
        "\n",
        "**Presence of Outliers** "
      ],
      "metadata": {
        "id": "Qp13pnNzphqQ"
      }
    },
    {
      "cell_type": "markdown",
      "source": [
        "#### Chart - 11"
      ],
      "metadata": {
        "id": "x-EpHcCOp1ci"
      }
    },
    {
      "cell_type": "code",
      "source": [
        "# Chart - 11 visualization code\n",
        "plt.subplots(figsize=(20,10))\n",
        "# Group the dataframe by year, target type, target, success, weapon type, and group name, and count the number of attacks for each group\n",
        "attack_per_year=final_df.groupby(['iyear','targtype1_txt','target1','success','weaptype1_txt','gname'])['iyear'].count().to_frame(name = 'Total_Attacks').reset_index()\n",
        "\n",
        "# Create a line plot using Seaborn's lineplot function. Specify the x-axis as 'iyear' (year), the y-axis as 'Total_Attacks' \n",
        "fig = sns.lineplot(x=\"iyear\", y=\"Total_Attacks\", hue='success', errorbar=None ,data=attack_per_year)\n",
        "fig.tick_params(rotation=45)"
      ],
      "metadata": {
        "id": "mAQTIvtqp1cj"
      },
      "execution_count": null,
      "outputs": []
    },
    {
      "cell_type": "markdown",
      "source": [
        "##### 1. Why did you pick the specific chart?"
      ],
      "metadata": {
        "id": "X_VqEhTip1ck"
      }
    },
    {
      "cell_type": "markdown",
      "source": [
        "The specific chart chosen is a line plot (sns.lineplot()) with multiple lines representing the total number of attacks per year, categorized by the success of the attacks (success variable). The line plot is commonly used to show trends and changes over time, making it suitable for visualizing how the total number of attacks varies from year to year and how it differs based on the success.\n",
        "\n",
        "Here are some reasons why I pick this specific chart:(why line plot might be appropriate?)\n",
        "\n",
        "**Time-based data:** Line plots are effective in displaying changes over time, as the x-axis typically represents a continuous variable, such as years in this case.\n",
        "\n",
        "**Trend analysis:** Line plots help visualize trends, patterns, and fluctuations in the data. They allow for easy identification of increasing or decreasing trends in the total number of attacks over the years.\n",
        "\n",
        "**Comparison between groups:** By using different colors or line styles (as indicated by the hue parameter), line plots can compare and distinguish multiple groups or categories, such as the success of the attacks in this example."
      ],
      "metadata": {
        "id": "-vsMzt_np1ck"
      }
    },
    {
      "cell_type": "markdown",
      "source": [
        "##### 2. What is/are the insight(s) found from the chart?"
      ],
      "metadata": {
        "id": "8zGJKyg5p1ck"
      }
    },
    {
      "cell_type": "markdown",
      "source": [
        "I can provide some general insights that can be derived from a line plot of the total number of attacks per year, categorized by the success of the attacks:\n",
        "\n",
        "Trend of total attacks\n",
        "\n",
        "Seasonal or periodic patterns\n",
        "\n",
        "Comparison of success rates\n"
      ],
      "metadata": {
        "id": "ZYdMsrqVp1ck"
      }
    },
    {
      "cell_type": "markdown",
      "source": [
        "#### Chart - 12"
      ],
      "metadata": {
        "id": "pLpoIYGrfDvj"
      }
    },
    {
      "cell_type": "code",
      "source": [
        "# Chart - 12 visualization code\n",
        "\n",
        "# creates a line plot to visualize the number of deaths in the Middle East and North Africa region over the years\n",
        "plt.subplots(figsize=(20,10))\n",
        "d = final_df[final_df['region_txt']=='Middle East & North Africa']\n",
        "\n",
        "# group the filtered data by the 'iyear' column (year) and calculate the sum of the 'nkill' column (number of deaths) for each year\n",
        "d3 = pd.DataFrame(d.groupby(['iyear'])['nkill'].sum())    \n",
        "d3.reset_index(inplace=True)     # stored in a new DataFrame called d3\n",
        "\n",
        "# adds a new column called 'dummy' to the d3\n",
        "d3['dummy']=0\n",
        "\n",
        "# create the line plot using Seaborn's lineplot function. \n",
        "l = sns.lineplot(x=\"iyear\",y=\"nkill\",data=d3)\n",
        "\n",
        "# setting up the title\n",
        "l.set_title(\"Deaths in Middle East and North Africa\")\n",
        "\n",
        "# naming the x & y label and display the plot\n",
        "l.set_xlabel(\"Year\")\n",
        "l.set_ylabel(\"Number of deaths\")\n",
        "plt.show(l)"
      ],
      "metadata": {
        "id": "CbHBKAqNfDvs"
      },
      "execution_count": null,
      "outputs": []
    },
    {
      "cell_type": "markdown",
      "source": [
        "##### 1. Why did you pick the specific chart?"
      ],
      "metadata": {
        "id": "xGM7EUYQfDvs"
      }
    },
    {
      "cell_type": "markdown",
      "source": [
        "I picked this chart because it effectively visualizes the trend of deaths in the Middle East and North Africa region over the years. The line plot provides a clear representation of the data and allows for easy identification of patterns or changes in the number of deaths over time. The size of the figure also makes it easy to read the labels and interpret the information presented."
      ],
      "metadata": {
        "id": "BA-lQUzYfDvt"
      }
    },
    {
      "cell_type": "markdown",
      "source": [
        "##### 2. What is/are the insight(s) found from the chart?"
      ],
      "metadata": {
        "id": "jCw6lBDJfDvt"
      }
    },
    {
      "cell_type": "markdown",
      "source": [
        "The line plot shows the trend in the number of deaths due to terrorist attacks in the Middle East and North Africa region from 1970 to 2017. It can be observed that there was a significant increase in the number of deaths from the late 1980s to the mid-2000s, after which there has been a decline in the number of deaths. The peak number of deaths was observed in the year 2014. The line plot provides a clear visual representation of the trend and enables us to identify patterns and changes in the number of deaths due to terrorist attacks over time."
      ],
      "metadata": {
        "id": "ixiUlwkGfDvt"
      }
    },
    {
      "cell_type": "markdown",
      "source": [
        "#### Chart - 13 - Correlation Heatmap"
      ],
      "metadata": {
        "id": "NC_X3p0fY2L0"
      }
    },
    {
      "cell_type": "code",
      "source": [
        "# Correlation Heatmap visualization code\n",
        "\n",
        "# Create a new DataFrame with the selected columns\n",
        "plt.subplots(figsize=(15,6))\n",
        "new_dff = final_df[['iyear', 'region_txt','targtype1_txt','target1','success','weaptype1_txt','gname']]\n",
        "\n",
        "# Calculate the correlation matrix\n",
        "correlation_matrix = new_dff.corr()\n",
        "\n",
        "# Generate the correlation heatmap\n",
        "sns.heatmap(correlation_matrix, annot=True, cmap='coolwarm')\n",
        "\n",
        "# Set the plot title\n",
        "plt.title('Correlation Heatmap')\n",
        "\n",
        "# Display the correlation heatmap\n",
        "plt.show()"
      ],
      "metadata": {
        "id": "xyC9zolEZNRQ"
      },
      "execution_count": null,
      "outputs": []
    },
    {
      "cell_type": "markdown",
      "source": [
        "##### 1. Why did you pick the specific chart?"
      ],
      "metadata": {
        "id": "UV0SzAkaZNRQ"
      }
    },
    {
      "cell_type": "markdown",
      "source": [
        "The correlation heatmap is a suitable chart choice for analyzing the relationships and correlations between different variables in the global terrorism dataset for several reasons:\n",
        "\n",
        "**Visualizing Correlations**\n",
        "\n",
        "**Heatmap Color Encoding**\n",
        "\n",
        "**Annotating Correlation Values**\n",
        "\n",
        "**Compact and Comprehensive**"
      ],
      "metadata": {
        "id": "DVPuT8LYZNRQ"
      }
    },
    {
      "cell_type": "markdown",
      "source": [
        "##### 2. What is/are the insight(s) found from the chart?"
      ],
      "metadata": {
        "id": "YPEH6qLeZNRQ"
      }
    },
    {
      "cell_type": "markdown",
      "source": [
        "**Relationship between variables:** The correlation heatmap helps identify the strength and direction of relationships between different variables. Positive correlations (values closer to 1) indicate that as one variable increases, the other variable tends to increase as well. Negative correlations (values closer to -1) indicate an inverse relationship, where one variable increases while the other decreases.\n",
        "\n",
        "**Impactful variables:** The heatmap can reveal which variables have a significant impact on others. High positive or negative correlations between variables suggest a strong association, indicating that changes in one variable may be linked to changes in another. These insights can help prioritize and focus on specific variables for further analysis or decision-making.\n",
        "\n",
        "**Multicollinearity:** The correlation heatmap can highlight variables that exhibit high correlations with each other. This indicates multicollinearity, where two or more variables are highly interrelated. Identifying multicollinearity is important in statistical analysis as it can affect model performance and interpretation.\n",
        "\n",
        "**Identifying potential relationships:** The heatmap may reveal unexpected correlations between variables that were not initially considered. These correlations can suggest potential relationships or dependencies that warrant further investigation and analysis."
      ],
      "metadata": {
        "id": "bfSqtnDqZNRR"
      }
    },
    {
      "cell_type": "markdown",
      "source": [
        "## **5. Solution to Business Objective**"
      ],
      "metadata": {
        "id": "JcMwzZxoAimU"
      }
    },
    {
      "cell_type": "markdown",
      "source": [
        "#### What do you suggest the client to achieve Business Objective ? \n",
        "Explain Briefly."
      ],
      "metadata": {
        "id": "8G2x9gOozGDZ"
      }
    },
    {
      "cell_type": "markdown",
      "source": [
        "To achieve the business objective with the global terrorism dataset, I suggest the following:\n",
        "\n",
        "1.Analyze the dataset: Perform comprehensive analysis of the global terrorism dataset to uncover patterns, trends, and correlations in terrorist incidents worldwide.\n",
        "\n",
        "2.Visualize insights: Use data visualization techniques to present the findings in a clear and meaningful way, enabling stakeholders to understand the global terrorism landscape at a glance.\n",
        "\n",
        "3.Predictive modeling: Build predictive models to forecast and identify potential future terrorism incidents, enabling proactive risk assessment and mitigation strategies.\n",
        "\n",
        "4.Sentiment analysis: Conduct sentiment analysis on textual data associated with terrorism incidents to understand public perception and potentially identify emerging trends or threats.\n",
        "\n",
        "5.Network analysis: Apply network analysis techniques to identify connections and relationships among terrorist organizations or individuals, aiding in understanding organizational dynamics and potential disruption strategies.\n",
        "\n",
        "6.Geospatial analysis: Utilize geospatial analysis to examine the spatial distribution of terrorism incidents, identify high-risk regions, and assess the impact of counter-terrorism measures.\n",
        "\n",
        "7.Collaborative data sharing: Encourage collaboration and data sharing among relevant stakeholders to enhance collective understanding and improve counter-terrorism efforts.\n",
        "\n",
        "8.Real-time monitoring: Develop a real-time monitoring system that can analyze incoming data streams to detect and respond to emerging threats in near real-time.\n",
        "\n",
        "These suggestions aim to utilize the global terrorism dataset effectively to gain insights, make informed decisions, and enhance counter-terrorism efforts."
      ],
      "metadata": {
        "id": "pASKb0qOza21"
      }
    },
    {
      "cell_type": "markdown",
      "source": [
        "# **Conclusion**"
      ],
      "metadata": {
        "id": "gCX9965dhzqZ"
      }
    },
    {
      "cell_type": "markdown",
      "source": [
        "\n",
        "To conclude, we have seen various types of analysis and question and answers with the data set I found interesting. Here is something I feel worth to share. We just look at data set all we can say is that we just know what are the columns and what it contains.So Exploratory Data Analysis is a very efficient way to make our work easy. With python libraries like pandas, numpy, matplotlib, seaborn,plotly allow us to come to conclusions calculating and vizualization.\n",
        "\n",
        "From the above analysis we conclude that\n",
        "\n",
        "\n",
        "\n",
        "*   Iraq country has highest number of attacks (24636) and then Pakistan, Afghanistan, and India follow it.\n",
        "*   Middle and East Africa region has highest number of attacks (50474)\n",
        "*   Explosives are the most weapon used by terrorsits (92426).\n",
        "*   From the analysis we can see that on 2014 the number of terrorist activities were the highest in Iraq Country (16806)\n",
        "*   Private citizens and Property were the main targets in terrorism activity (43510)\n",
        "*   Bombing and Explosion methods were most commonly used in terrorism activity (82255).\n",
        "*   Taliban is most Notorious group with highest number of terrorist activitiies (7478)\n",
        "*   Attacks were more during 2014 and then in 2015. When compared to attacks from 1970 onwards, the last 6 years scored a maximum. But from 2014 onwards count started decreasing.\n",
        "\n",
        "\n",
        "\n",
        "\n",
        "Strong security should be given for the countries Iraq,Pakistan,Afghanistan and India and also for middle East Regions and cities like Bhagdad,Karachi lima and many others.\n",
        "\n",
        "Safety measures have to take regarding explosive devices as bombing explosions are the most weapons used by terrorsits\n",
        "\n",
        "Strong security should be given to Private citizens and Property ,Military,Police etc as they are main target in terrorism"
      ],
      "metadata": {
        "id": "Fjb1IsQkh3yE"
      }
    },
    {
      "cell_type": "markdown",
      "source": [
        "### ***Hurrah! You have successfully completed your EDA Capstone Project !!!***"
      ],
      "metadata": {
        "id": "gIfDvo9L0UH2"
      }
    }
  ]
}